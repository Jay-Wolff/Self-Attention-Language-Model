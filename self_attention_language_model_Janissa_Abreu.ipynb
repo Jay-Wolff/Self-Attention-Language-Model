{
  "nbformat": 4,
  "nbformat_minor": 0,
  "metadata": {
    "colab": {
      "provenance": [],
      "gpuType": "A100",
      "machine_shape": "hm",
      "include_colab_link": true
    },
    "kernelspec": {
      "name": "python3",
      "display_name": "Python 3"
    },
    "language_info": {
      "name": "python"
    },
    "accelerator": "GPU"
  },
  "cells": [
    {
      "cell_type": "markdown",
      "metadata": {
        "id": "view-in-github",
        "colab_type": "text"
      },
      "source": [
        "<a href=\"https://colab.research.google.com/github/Jay-Wolff/Self-Attention-Language-Model/blob/main/self_attention_language_model_Janissa_Abreu.ipynb\" target=\"_parent\"><img src=\"https://colab.research.google.com/assets/colab-badge.svg\" alt=\"Open In Colab\"/></a>"
      ]
    },
    {
      "cell_type": "markdown",
      "source": [
        "#Final Project\n"
      ],
      "metadata": {
        "id": "Ki_1QmvFtx7c"
      }
    },
    {
      "cell_type": "markdown",
      "source": [
        "##Objective:\n",
        "This project aims to enhance the performance of self-attention language model by scaling up the model architecture. The main focus is to implement dropout mechanisms for improved generalization, and to leverage GPU acceleration for efficient training."
      ],
      "metadata": {
        "id": "pcZ8TKGrt_HI"
      }
    },
    {
      "cell_type": "code",
      "source": [
        "import torch\n",
        "import torch.nn as nn\n",
        "import torch.optim as optim\n",
        "from torch.nn import functional as F\n",
        "import time"
      ],
      "metadata": {
        "id": "LIn9YssAt6kX"
      },
      "execution_count": null,
      "outputs": []
    },
    {
      "cell_type": "code",
      "source": [
        "!wget https://raw.githubusercontent.com/karpathy/char-rnn/master/data/tinyshakespeare/input.txt\n",
        "\n",
        "with open('input.txt', 'r', encoding='utf-8') as f:\n",
        "    text = f.read()"
      ],
      "metadata": {
        "colab": {
          "base_uri": "https://localhost:8080/"
        },
        "id": "UtIYYKhp0smD",
        "outputId": "5962e682-9c83-4d70-8b57-9a6b1c244fe8"
      },
      "execution_count": null,
      "outputs": [
        {
          "output_type": "stream",
          "name": "stdout",
          "text": [
            "--2024-05-19 23:04:32--  https://raw.githubusercontent.com/karpathy/char-rnn/master/data/tinyshakespeare/input.txt\n",
            "Resolving raw.githubusercontent.com (raw.githubusercontent.com)... 185.199.108.133, 185.199.109.133, 185.199.110.133, ...\n",
            "Connecting to raw.githubusercontent.com (raw.githubusercontent.com)|185.199.108.133|:443... connected.\n",
            "HTTP request sent, awaiting response... 200 OK\n",
            "Length: 1115394 (1.1M) [text/plain]\n",
            "Saving to: ‘input.txt’\n",
            "\n",
            "\rinput.txt             0%[                    ]       0  --.-KB/s               \rinput.txt           100%[===================>]   1.06M  --.-KB/s    in 0.04s   \n",
            "\n",
            "2024-05-19 23:04:32 (23.8 MB/s) - ‘input.txt’ saved [1115394/1115394]\n",
            "\n"
          ]
        }
      ]
    },
    {
      "cell_type": "code",
      "source": [
        "# hyperparameters\n",
        "batch_size = 64 # how many independent sequences will we process in parallel?\n",
        "max_iters = 5000\n",
        "learning_rate = 3e-4\n",
        "block_size = 256 # what is the maximum context length for predictions?\n",
        "device = 'cuda' if torch.cuda.is_available() else 'cpu' # utilize GPU computing\n",
        "eval_interval = 100\n",
        "eval_iters = 200\n",
        "n_embd = 384 # Affects the size of the bigram model\n",
        "n_head = 6\n",
        "n_layer = 6\n",
        "dropout = 0.2\n",
        "\n",
        "torch.manual_seed(1337)"
      ],
      "metadata": {
        "colab": {
          "base_uri": "https://localhost:8080/"
        },
        "id": "KuTn81zA1aU7",
        "outputId": "60647ada-5504-44e4-dcba-9371ab309f59"
      },
      "execution_count": null,
      "outputs": [
        {
          "output_type": "execute_result",
          "data": {
            "text/plain": [
              "<torch._C.Generator at 0x7a32f00da770>"
            ]
          },
          "metadata": {},
          "execution_count": 3
        }
      ]
    },
    {
      "cell_type": "code",
      "source": [
        "# here are all the unique characters that occur in this text\n",
        "chars = sorted(list(set(text)))\n",
        "vocab_size = len(chars)\n",
        "# create a mapping from characters to integers\n",
        "stoi = { ch:i for i,ch in enumerate(chars) }\n",
        "itos = { i:ch for i,ch in enumerate(chars) }\n",
        "encode = lambda s: [stoi[c] for c in s] # encoder: take a string, output a list of integers\n",
        "decode = lambda l: ''.join([itos[i] for i in l]) # decoder: take a list of integers, output a string"
      ],
      "metadata": {
        "id": "MIlkdD_33Joj"
      },
      "execution_count": null,
      "outputs": []
    },
    {
      "cell_type": "code",
      "source": [
        "# Train and test splits\n",
        "data = torch.tensor(encode(text), dtype=torch.long)\n",
        "n = int(0.9*len(data)) # first 90% will be train, rest val\n",
        "train_data = data[:n]\n",
        "val_data = data[n:]\n",
        "print(len(train_data), len(val_data))"
      ],
      "metadata": {
        "colab": {
          "base_uri": "https://localhost:8080/"
        },
        "id": "G-u1yEqH3MXH",
        "outputId": "ebf7b6a9-5b08-4e49-8918-1a705aa14c5e"
      },
      "execution_count": null,
      "outputs": [
        {
          "output_type": "stream",
          "name": "stdout",
          "text": [
            "1003854 111540\n"
          ]
        }
      ]
    },
    {
      "cell_type": "code",
      "source": [
        "# A self-attention block\n",
        "class Head(nn.Module):\n",
        "    \"\"\" one head of self-attention \"\"\"\n",
        "\n",
        "    def __init__(self, head_size):\n",
        "        super().__init__()\n",
        "        self.key = nn.Linear(n_embd, head_size, bias=False)     # process location information\n",
        "        self.query = nn.Linear(n_embd, head_size, bias=False)   # process token information\n",
        "        self.value = nn.Linear(n_embd, head_size, bias=False)\n",
        "        self.register_buffer('tril', torch.tril(torch.ones(block_size, block_size)))\n",
        "\n",
        "        self.dropout = nn.Dropout(dropout) # At this moment, the rate is 0\n",
        "\n",
        "    def forward(self, x):\n",
        "        B,T,C = x.shape\n",
        "        k = self.key(x)   # (B,T,C)\n",
        "        q = self.query(x) # (B,T,C)\n",
        "        # compute attention scores (\"affinities\")\n",
        "        wei = q @ k.transpose(-2,-1) * C**-0.5 # (B, T, C) @ (B, C, T) -> (B, T, T)\n",
        "        wei = wei.masked_fill(self.tril[:T, :T] == 0, float('-inf')) # (B, T, T)\n",
        "        wei = F.softmax(wei, dim=-1) # (B, T, T)\n",
        "        wei = self.dropout(wei)\n",
        "        # perform the weighted aggregation of the values\n",
        "        v = self.value(x) # (B,T,C)\n",
        "        out = wei @ v # (B, T, T) @ (B, T, C) -> (B, T, C)\n",
        "        return out"
      ],
      "metadata": {
        "id": "4WM-1hl66u0b"
      },
      "execution_count": null,
      "outputs": []
    },
    {
      "cell_type": "code",
      "source": [
        "# data loading\n",
        "def get_batch(split):\n",
        "    # generate a small batch of data of inputs x and targets y\n",
        "    data = train_data if split == 'train' else val_data\n",
        "    ix = torch.randint(len(data) - block_size, (batch_size,))\n",
        "    x = torch.stack([data[i:i+block_size] for i in ix])\n",
        "    y = torch.stack([data[i+1:i+block_size+1] for i in ix])\n",
        "    x, y = x.to(device), y.to(device) # send data to GPU\n",
        "    return x, y"
      ],
      "metadata": {
        "id": "8M7y8Wn23Q7F"
      },
      "execution_count": null,
      "outputs": []
    },
    {
      "cell_type": "code",
      "source": [
        "@torch.no_grad() # A function modifier to improve efficiency\n",
        "def estimate_loss():\n",
        "    out = {}\n",
        "    model.eval()\n",
        "    for split in ['train', 'val']:\n",
        "        losses = torch.zeros(eval_iters)\n",
        "        for k in range(eval_iters):\n",
        "            X, Y = get_batch(split)\n",
        "            logits, loss = model(X, Y)\n",
        "            losses[k] = loss.item()\n",
        "        out[split] = losses.mean()\n",
        "    model.train()\n",
        "    return out"
      ],
      "metadata": {
        "id": "3XllHhAJ3YC5"
      },
      "execution_count": null,
      "outputs": []
    },
    {
      "cell_type": "code",
      "source": [
        "class MultiHeadAttention(nn.Module):\n",
        "    \"\"\" multiple heads of self-attention in parallel \"\"\"\n",
        "\n",
        "    def __init__(self, num_heads, head_size):\n",
        "        super().__init__()\n",
        "        self.heads = nn.ModuleList([Head(head_size) for _ in range(num_heads)])\n",
        "        self.proj = nn.Linear(n_embd, n_embd)\n",
        "        self.dropout = nn.Dropout(dropout)\n",
        "\n",
        "    def forward(self, x):\n",
        "        out = torch.cat([h(x) for h in self.heads], dim=-1)\n",
        "        out = self.dropout(self.proj(out))\n",
        "        return out"
      ],
      "metadata": {
        "id": "SqbMvhjt5bXm"
      },
      "execution_count": null,
      "outputs": []
    },
    {
      "cell_type": "code",
      "source": [
        "class Block(nn.Module):\n",
        "    \"\"\" Transformer block: communication followed by computation \"\"\"\n",
        "\n",
        "    def __init__(self, n_embd, n_head):\n",
        "        # n_embd: embedding dimension, n_head: the number of heads we'd like\n",
        "        super().__init__()\n",
        "        head_size = n_embd // n_head\n",
        "        self.sa = MultiHeadAttention(n_head, head_size)\n",
        "        self.ffwd = FeedForward(n_embd)\n",
        "        self.ln1 = nn.LayerNorm(n_embd)\n",
        "        self.ln2 = nn.LayerNorm(n_embd)\n",
        "\n",
        "    def forward(self, x):\n",
        "        x = x + self.sa(self.ln1(x))      # ResNet structure is used\n",
        "        x = x + self.ffwd(self.ln2(x))\n",
        "        return x"
      ],
      "metadata": {
        "id": "kZMD1ROl3hZO"
      },
      "execution_count": null,
      "outputs": []
    },
    {
      "cell_type": "code",
      "source": [
        "class LayerNorm1d: # (used to be BatchNorm1d)\n",
        "\n",
        "  def __init__(self, dim, eps=1e-5, momentum=0.1):\n",
        "    self.eps = eps\n",
        "    self.gamma = torch.ones(dim)\n",
        "    self.beta = torch.zeros(dim)\n",
        "\n",
        "  def __call__(self, x):\n",
        "    # calculate the forward pass\n",
        "    xmean = x.mean(1, keepdim=True) # batch mean\n",
        "    xvar = x.var(1, keepdim=True) # batch variance\n",
        "    xhat = (x - xmean) / torch.sqrt(xvar + self.eps) # normalize to unit variance\n",
        "    self.out = self.gamma * xhat + self.beta\n",
        "    return self.out\n",
        "\n",
        "  def parameters(self):\n",
        "    return [self.gamma, self.beta]\n",
        "\n",
        "torch.manual_seed(1337)\n",
        "module = LayerNorm1d(100)\n",
        "x = torch.randn(32, 100) # batch size 32 of 100-dimensional vectors\n",
        "x = module(x)\n",
        "x.shape"
      ],
      "metadata": {
        "colab": {
          "base_uri": "https://localhost:8080/"
        },
        "id": "zaVbFnOY3mPM",
        "outputId": "27fd8c7b-6bb3-44ee-d8d5-199350cd3a1c"
      },
      "execution_count": null,
      "outputs": [
        {
          "output_type": "execute_result",
          "data": {
            "text/plain": [
              "torch.Size([32, 100])"
            ]
          },
          "metadata": {},
          "execution_count": 11
        }
      ]
    },
    {
      "cell_type": "code",
      "source": [
        "class FeedForward(nn.Module):\n",
        "    \"\"\" a simple linear layer followed by a non-linearity \"\"\"\n",
        "\n",
        "    def __init__(self, n_embd):\n",
        "        super().__init__()\n",
        "        self.net = nn.Sequential(\n",
        "            nn.Linear(n_embd, 4 * n_embd),\n",
        "            nn.ReLU(),\n",
        "            nn.Linear(4 * n_embd, n_embd),\n",
        "            nn.Dropout(dropout),\n",
        "        )\n",
        "\n",
        "    def forward(self, x):\n",
        "        return self.net(x)"
      ],
      "metadata": {
        "id": "_qYcieHk5_zq"
      },
      "execution_count": null,
      "outputs": []
    },
    {
      "cell_type": "code",
      "source": [
        "class SelfAttentionModel4(nn.Module):\n",
        "\n",
        "    def __init__(self):\n",
        "        super().__init__()\n",
        "        # each token directly reads off the logits for the next token from a lookup table\n",
        "        self.token_embedding_table = nn.Embedding(vocab_size, n_embd)\n",
        "        self.position_embedding_table = nn.Embedding(block_size, n_embd)\n",
        "        self.blocks = nn.Sequential(*[Block(n_embd, n_head=n_head) for _ in range(n_layer)])\n",
        "        self.ln_f = nn.LayerNorm(n_embd) # final layer norm\n",
        "        self.lm_head = nn.Linear(n_embd, vocab_size)\n",
        "\n",
        "    def forward(self, idx, targets=None):\n",
        "        B, T = idx.shape\n",
        "\n",
        "        # idx and targets are both (B,T) tensor of integers\n",
        "        tok_emb = self.token_embedding_table(idx) # (B,T,C)\n",
        "        pos_emb = self.position_embedding_table(torch.arange(T, device=device)) # (T,C)\n",
        "        x = tok_emb + pos_emb # (B,T,C)\n",
        "        x = self.blocks(x) # (B,T,C)\n",
        "        x = self.ln_f(x) # (B,T,C)\n",
        "        logits = self.lm_head(x) # (B,T,vocab_size)\n",
        "\n",
        "        if targets is None:\n",
        "            loss = None\n",
        "        else:\n",
        "            B, T, C = logits.shape\n",
        "            logits = logits.view(B*T, C)\n",
        "            targets = targets.view(B*T)\n",
        "            loss = F.cross_entropy(logits, targets)\n",
        "\n",
        "        return logits, loss\n",
        "\n",
        "    def generate(self, idx, max_new_tokens):\n",
        "        # idx is (B, T) array of indices in the current context\n",
        "        for _ in range(max_new_tokens):\n",
        "            # crop idx to the last block_size tokens\n",
        "            idx_cond = idx[:, -block_size:]\n",
        "            # get the predictions\n",
        "            logits, loss = self(idx_cond)\n",
        "            # focus only on the last time step\n",
        "            logits = logits[:, -1, :] # becomes (B, C)\n",
        "            # apply softmax to get probabilities\n",
        "            probs = F.softmax(logits, dim=-1) # (B, C)\n",
        "            # sample from the distribution\n",
        "            idx_next = torch.multinomial(probs, num_samples=1) # (B, 1)\n",
        "            # append sampled index to the running sequence\n",
        "            idx = torch.cat((idx, idx_next), dim=1) # (B, T+1)\n",
        "        return idx"
      ],
      "metadata": {
        "id": "axNxSY6L5lx_"
      },
      "execution_count": null,
      "outputs": []
    },
    {
      "cell_type": "code",
      "source": [
        "print(device)"
      ],
      "metadata": {
        "colab": {
          "base_uri": "https://localhost:8080/"
        },
        "id": "zWakvkS6B9sX",
        "outputId": "2afd034e-1e06-4e86-d959-eae067c3f1ed"
      },
      "execution_count": null,
      "outputs": [
        {
          "output_type": "stream",
          "name": "stdout",
          "text": [
            "cuda\n"
          ]
        }
      ]
    },
    {
      "cell_type": "code",
      "source": [
        "model = SelfAttentionModel4()\n",
        "m = model.to(device)\n",
        "# print the number of parameters in the model\n",
        "print(sum(p.numel() for p in m.parameters())/1e6, 'M parameters')\n",
        "\n",
        "# create a PyTorch optimizer\n",
        "optimizer = torch.optim.AdamW(model.parameters(), lr=learning_rate)\n",
        "\n",
        "start_time = time.time()\n",
        "\n",
        "for iter in range(max_iters):\n",
        "\n",
        "    # every once in a while evaluate the loss on train and val sets\n",
        "    if iter % eval_interval == 0 or iter == max_iters - 1:\n",
        "        losses = estimate_loss()\n",
        "        print(f\"step {iter}: train loss {losses['train']:.4f}, val loss {losses['val']:.4f}\")\n",
        "\n",
        "    # sample a batch of data\n",
        "    xb, yb = get_batch('train')\n",
        "\n",
        "    # evaluate the loss\n",
        "    logits, loss = model(xb, yb)\n",
        "    optimizer.zero_grad(set_to_none=True)\n",
        "    loss.backward()\n",
        "    optimizer.step()\n",
        "\n",
        "end_time = time.time()\n",
        "\n",
        "elapsed_time = end_time - start_time\n",
        "\n",
        "\n",
        "print(\"\\n\\nStart Time = \" + str(start_time))\n",
        "print(\"End Time = \" + str(end_time))\n",
        "print(\"Elapsed Time = \" + str(elapsed_time))"
      ],
      "metadata": {
        "colab": {
          "base_uri": "https://localhost:8080/"
        },
        "id": "ofKD24is5pia",
        "outputId": "172a4faf-4bb5-4da3-968a-0b7bcfa01465"
      },
      "execution_count": null,
      "outputs": [
        {
          "output_type": "stream",
          "name": "stdout",
          "text": [
            "10.788929 M parameters\n",
            "step 0: train loss 4.3679, val loss 4.3585\n",
            "step 100: train loss 2.4757, val loss 2.4884\n",
            "step 200: train loss 2.4235, val loss 2.4428\n",
            "step 300: train loss 2.3399, val loss 2.3684\n",
            "step 400: train loss 2.1654, val loss 2.2108\n",
            "step 500: train loss 2.0296, val loss 2.1012\n",
            "step 600: train loss 1.9132, val loss 2.0180\n",
            "step 700: train loss 1.8260, val loss 1.9548\n",
            "step 800: train loss 1.7415, val loss 1.8818\n",
            "step 900: train loss 1.6730, val loss 1.8303\n",
            "step 1000: train loss 1.6209, val loss 1.7895\n",
            "step 1100: train loss 1.5760, val loss 1.7463\n",
            "step 1200: train loss 1.5386, val loss 1.7225\n",
            "step 1300: train loss 1.5072, val loss 1.6857\n",
            "step 1400: train loss 1.4753, val loss 1.6695\n",
            "step 1500: train loss 1.4480, val loss 1.6421\n",
            "step 1600: train loss 1.4285, val loss 1.6325\n",
            "step 1700: train loss 1.4078, val loss 1.6171\n",
            "step 1800: train loss 1.3886, val loss 1.5971\n",
            "step 1900: train loss 1.3698, val loss 1.5866\n",
            "step 2000: train loss 1.3542, val loss 1.5748\n",
            "step 2100: train loss 1.3388, val loss 1.5649\n",
            "step 2200: train loss 1.3252, val loss 1.5550\n",
            "step 2300: train loss 1.3085, val loss 1.5467\n",
            "step 2400: train loss 1.2996, val loss 1.5323\n",
            "step 2500: train loss 1.2842, val loss 1.5336\n",
            "step 2600: train loss 1.2763, val loss 1.5269\n",
            "step 2700: train loss 1.2637, val loss 1.5206\n",
            "step 2800: train loss 1.2546, val loss 1.5254\n",
            "step 2900: train loss 1.2442, val loss 1.5131\n",
            "step 3000: train loss 1.2371, val loss 1.5003\n",
            "step 3100: train loss 1.2241, val loss 1.4992\n",
            "step 3200: train loss 1.2179, val loss 1.5003\n",
            "step 3300: train loss 1.2088, val loss 1.4995\n",
            "step 3400: train loss 1.1998, val loss 1.4925\n",
            "step 3500: train loss 1.1896, val loss 1.4854\n",
            "step 3600: train loss 1.1802, val loss 1.4929\n",
            "step 3700: train loss 1.1737, val loss 1.4862\n",
            "step 3800: train loss 1.1690, val loss 1.4861\n",
            "step 3900: train loss 1.1587, val loss 1.4862\n",
            "step 4000: train loss 1.1545, val loss 1.4846\n",
            "step 4100: train loss 1.1451, val loss 1.4850\n",
            "step 4200: train loss 1.1365, val loss 1.4901\n",
            "step 4300: train loss 1.1302, val loss 1.4771\n",
            "step 4400: train loss 1.1224, val loss 1.4863\n",
            "step 4500: train loss 1.1180, val loss 1.4924\n",
            "step 4600: train loss 1.1105, val loss 1.4857\n",
            "step 4700: train loss 1.1033, val loss 1.4888\n",
            "step 4800: train loss 1.0942, val loss 1.4840\n",
            "step 4900: train loss 1.0876, val loss 1.4847\n",
            "step 4999: train loss 1.0804, val loss 1.4906\n",
            "\n",
            "\n",
            "Start Time = 1716159874.465447\n",
            "End Time = 1716161175.8466504\n",
            "Elapsed Time = 1301.3812034130096\n"
          ]
        }
      ]
    },
    {
      "cell_type": "code",
      "source": [
        "hours = int(elapsed_time // 3600)\n",
        "minutes = int((elapsed_time % 3600) // 60)\n",
        "seconds = int(elapsed_time % 60)\n",
        "\n",
        "print(f'Training time: {hours} hours, {minutes} minutes, {seconds} seconds')"
      ],
      "metadata": {
        "colab": {
          "base_uri": "https://localhost:8080/"
        },
        "id": "WUhb-hyOAgWF",
        "outputId": "8e7c72fe-59ff-412d-875b-b0000edfb45a"
      },
      "execution_count": null,
      "outputs": [
        {
          "output_type": "stream",
          "name": "stdout",
          "text": [
            "Training time: 0 hours, 21 minutes, 41 seconds\n"
          ]
        }
      ]
    },
    {
      "cell_type": "code",
      "source": [
        "# generate from the model\n",
        "context = torch.zeros((1, 1), dtype=torch.long, device=device)\n",
        "print(decode(m.generate(context, max_new_tokens=5000)[0].tolist()))"
      ],
      "metadata": {
        "colab": {
          "base_uri": "https://localhost:8080/"
        },
        "id": "luiuNo9y8oRb",
        "outputId": "b205ec9c-bab8-4f62-e48b-5dd86921f894"
      },
      "execution_count": null,
      "outputs": [
        {
          "output_type": "stream",
          "name": "stdout",
          "text": [
            "\n",
            "HASTING ELO:\n",
            "If he, by Saint Church did Nor you wash.\n",
            "That I dare you are two forsworn:\n",
            "Most gracious to dread senated.\n",
            "\n",
            "ISABELLA:\n",
            "He had you beheld in a back; and, if we should\n",
            "thou know as the people's very helpe,\n",
            "Where courselves, with no norgely honour\n",
            "To the tree aid-fortune. It shall, be as I\n",
            "must, even so, what do not speak?'\n",
            "I do beseeming,\n",
            "Live not borrow to hear it.\n",
            "Heart I! in thy voice.\n",
            "\n",
            "ABHORSON:\n",
            "No, sir; for if my very soul, God he debedity,\n",
            "Of I love me, fear me for out off,\n",
            "Inderigricing princessible are and presaged\n",
            "Till be condirent with prize.\n",
            "\n",
            "SAMPSON:\n",
            "O, perovided! be gone, 'tis honest depend.\n",
            "\n",
            "ROMEO:\n",
            "Offering and much mores a corse, since of\n",
            "your parchments, prophecy: all ass\n",
            "It bid hast\n",
            "With the prison! pleasure of the conveners.\n",
            "\n",
            "FRIAR LAURENCE:\n",
            "My pather know a princinquence gentleman;\n",
            "Which he determined those thanks,\n",
            "Might doubly have for Rome and not begg.\n",
            "\n",
            "ROMEO:\n",
            "Aland trumpents, with soldiers! It is speak.\n",
            "Pray you, my liege, like Romeo slain,\n",
            "Were kinsman and broiled will becomes hereand:\n",
            "And I take in achieved to resign,\n",
            "Hath some very part'd her own land, time\n",
            "The count. O my gra's name, one of me:\n",
            "I cannot faith, now I have indeed--\n",
            "Hy forced Cronswest is fail, which,--\n",
            "\n",
            "PAULINA:\n",
            "Till he, thank you.\n",
            "He comes, lords,\n",
            "Your fortuned air accusation.\n",
            "\n",
            "KING LEWICK EDWARD IV:\n",
            "Say, at with him buckly; his heigh!\n",
            "\n",
            "KING RICHARD III:\n",
            "I thought he be lost than criest York\n",
            "\n",
            "YORK:\n",
            "Come, there curse on you plase\n",
            "And bring your Rome, and till stand of sorrow.\n",
            "\n",
            "DUKE OF YORK:\n",
            "Now are in my lady, forget,\n",
            "When he did soldier. I know the Angelo\n",
            "Of your speecheal angeligence of faither's son,\n",
            "When help amen unto greet than eye\n",
            "I am to good to Throw.\n",
            "\n",
            "DUKE OF AUMERLE:\n",
            "O Soulse!\n",
            "\n",
            "DUKE VINCENTIO:\n",
            "Heaven, my lace, hear!\n",
            "\n",
            "DUKE VINCENTIO:\n",
            "Master, now mine time hideouse farewell vein,\n",
            "If he curse to Rome had surfeign theel to\n",
            "hell, but this lamene--I am near to-- for a pait,--\n",
            "\n",
            "BENVOLIO:\n",
            "I have ask and hildings, for find emperies,\n",
            "His nulk'd lessers in the belly mole!\n",
            "Were pains not in either hatred,\n",
            "And brothen, I'll quickly down\n",
            "England from the feace of the friend of his robe;\n",
            "Lut may defecence thee formers must of some.\n",
            "\n",
            "MERCUTIO:\n",
            "Sir thou bite?\n",
            "\n",
            "Messenger:\n",
            "I am efremend the woeful to us hine,\n",
            "That troubles think'st thou a bredaing\n",
            "Being all inconfusion; marry, and look'd\n",
            "And to found the trade-mood and lost entend\n",
            "Where yet her shall betrain't, where you spend\n",
            "Reffore alreech'd up the Seal,\n",
            "Till I sprist thee to you.\n",
            "\n",
            "FLORIZEL:\n",
            "O mindous sore poor strights! I princely,\n",
            "Which even crimm'd from me: fearful hall--\n",
            "Now-dayged or elbows forbeaster,\n",
            "And noble one mother, with ale tying\n",
            "May trusty make it me speak, you seeking called,\n",
            "Make me mine virtue and speen\n",
            "The state and sun stood to look.\n",
            "Here come is so: dear it: stay reign,\n",
            "I'ld make my bodd of enjoying had I;\n",
            "Who three-peece how repliant seeming away;\n",
            "And tell me in the nephing.\n",
            "\n",
            "DUKE VINCENTIO:\n",
            "We have matted; and ne'er honours great gat.\n",
            "\n",
            "HENRY BOLINGBROKE:\n",
            "Good save to Norse; would hide you guess not night,\n",
            "Pity a crow up yown up: up, as joing life,\n",
            "Wearing angry misery, we spoke: for our guild\n",
            "Crackle-conduced up of your ebeded.\n",
            "\n",
            "ANGELO:\n",
            "Decking now you deserve foully; and ekiss speak\n",
            "Which is likely before my lief, but a wox,\n",
            "So that is your hand will. Left us you think't to\n",
            "the heart is but for out of worth.\n",
            "What do you bed?\n",
            "\n",
            "ISABELLA:\n",
            "Hail toad, he must says absoluticorate\n",
            "With svailences straights for edals, beseech itself.\n",
            "\n",
            "Alcast our quaires royal disgrace to love!\n",
            "\n",
            "LORIZEL:\n",
            "Give you thee pay in my elebrace!\n",
            "\n",
            "PAULINA:\n",
            "Yestemble\n",
            "Ne'er them to Helenry.\n",
            "\n",
            "LEONTES:\n",
            "I am beseech, looking without to assured\n",
            "Be sign name.\n",
            "\n",
            "ANGELO:\n",
            "O, if you desemise me overous.\n",
            "\n",
            "LADY ANNE:\n",
            "Then we carried to speak; A logusly souls\n",
            "Taken with their decoaint:\n",
            "And had you all shed in heldings;\n",
            "Let's hemsely send how to be not my father\n",
            "Tenderprun.\n",
            "\n",
            "ANGEONUS:\n",
            "Hear has bournt with him: made good himself\n",
            "To pray the cause of them?\n",
            "\n",
            "Nurse:\n",
            "Hath as it offence' to off mine with all\n",
            "False lies find upon exchange of the ear oi.\n",
            "Givent mis-general shieldom to sometime hence\n",
            "Before that banish up fasts, psagathed absenable,\n",
            "By deadven both in thee,--like ond chedig,\n",
            "I crown'd lock, most execution with all doubt,\n",
            "This shame, Rome's violent in Judeture,\n",
            "Than think'st he that Romeoslancious shall not\n",
            "Make one accusation with her forest.\n",
            "\n",
            "Vols some other:\n",
            "Mighthal condemned, powerful boy knife\n",
            "To spit the messible of this prince.\n",
            "\n",
            "BENVOLIO:\n",
            "March forced his marshal, and be forced\n",
            "Me press to back against with his heaven:\n",
            "And therewer my name, old and I must despice\n",
            "To thinkle them fall me forceedy.\n",
            "\n",
            "ROMEO:\n",
            "Is beseech your father with Bolinbury?\n",
            "\n",
            "FRIAR LAURENCE:\n",
            "'Thy life hath heard me.\n",
            "\n",
            "ROMEO:\n",
            "Then had sent up your mistress'd the death's love,\n",
            "Your queen heart to the maye be cozent;\n",
            "Young God's believery.\n",
            "\n",
            "KING RICHARD II:\n",
            "Signior Clarence king so, intend myself\n",
            "Curses and usuband, and know now which in my stuw\n",
            "With silence; but the ermore love thanks\n",
            "Ran's rised honours in \n"
          ]
        }
      ]
    },
    {
      "cell_type": "code",
      "source": [
        "import matplotlib.pyplot as plt\n",
        "\n",
        "# Data\n",
        "steps = [\n",
        "    0, 100, 200, 300, 400, 500, 600, 700, 800, 900, 1000, 1100, 1200, 1300, 1400, 1500, 1600, 1700, 1800, 1900, 2000,\n",
        "    2100, 2200, 2300, 2400, 2500, 2600, 2700, 2800, 2900, 3000, 3100, 3200, 3300, 3400, 3500, 3600, 3700, 3800, 3900,\n",
        "    4000, 4100, 4200, 4300, 4400, 4500, 4600, 4700, 4800, 4900, 4999\n",
        "]\n",
        "train_losses = [\n",
        "    4.3679, 2.4757, 2.4235, 2.3399, 2.1654, 2.0296, 1.9132, 1.8260, 1.7415, 1.6730, 1.6209, 1.5760, 1.5386, 1.5072,\n",
        "    1.4753, 1.4480, 1.4285, 1.4078, 1.3886, 1.3698, 1.3542, 1.3388, 1.3252, 1.3085, 1.2996, 1.2842, 1.2763, 1.2637,\n",
        "    1.2546, 1.2442, 1.2371, 1.2241, 1.2179, 1.2088, 1.1998, 1.1896, 1.1802, 1.1737, 1.1690, 1.1587, 1.1545, 1.1451,\n",
        "    1.1365, 1.1302, 1.1224, 1.1180, 1.1105, 1.1033, 1.0942, 1.0876, 1.0804\n",
        "]\n",
        "val_losses = [\n",
        "    4.3585, 2.4884, 2.4428, 2.3684, 2.2108, 2.1012, 2.0180, 1.9548, 1.8818, 1.8303, 1.7895, 1.7463, 1.7225, 1.6857,\n",
        "    1.6695, 1.6421, 1.6325, 1.6171, 1.5971, 1.5866, 1.5748, 1.5649, 1.5550, 1.5467, 1.5323, 1.5336, 1.5269, 1.5206,\n",
        "    1.5254, 1.5131, 1.5003, 1.4992, 1.5003, 1.4995, 1.4925, 1.4854, 1.4929, 1.4862, 1.4861, 1.4862, 1.4846, 1.4850,\n",
        "    1.4901, 1.4771, 1.4863, 1.4924, 1.4857, 1.4888, 1.4840, 1.4847, 1.4906\n",
        "]\n",
        "\n",
        "# Plotting\n",
        "plt.figure(figsize=(10, 6))\n",
        "plt.plot(steps, train_losses, label='Training Loss')\n",
        "plt.plot(steps, val_losses, label='Validation Loss')\n",
        "plt.xlabel('Steps')\n",
        "plt.ylabel('Loss')\n",
        "plt.title('Training and Validation Losses over Steps')\n",
        "plt.legend()\n",
        "plt.show()"
      ],
      "metadata": {
        "id": "yNCrmWETqPo9",
        "colab": {
          "base_uri": "https://localhost:8080/",
          "height": 564
        },
        "outputId": "1dee4bae-e73b-42a4-f18f-214416e73ed1"
      },
      "execution_count": null,
      "outputs": [
        {
          "output_type": "display_data",
          "data": {
            "text/plain": [
              "<Figure size 1000x600 with 1 Axes>"
            ],
            "image/png": "[encoded data removed]"
          },
          "metadata": {}
        }
      ]
    },
    {
      "cell_type": "markdown",
      "source": [
        "##Analysis\n",
        "\n",
        "The training and validation loss gradually decreased as the steps progressed which is promising. However, after step 3000, the validation loss began to oscillate betweem 1.48 and 1.49. This means very little to no changes were being made while training past this point.\n",
        "\n",
        "The training time was approximately 21 minutes and 41 seconds which is relatively quick to train this model. However, I used the A100 GPU to train this model istead of the free GPUs that are provided by Google Colab. This could be the reason for the shorter training time.\n",
        "\n",
        "The text the model generated shows signs of the model understanding the structure of the laguage. Actual words are being formed which is definately an improvement from the previous model created. However, the model fails to make a coherent statement that is gramatically correct.\n",
        "\n",
        "This model would require more fine tuning, which could include more layers, greater training data or a longer training time for this models sentences to become coherent."
      ],
      "metadata": {
        "id": "KNEZzTC4rnWj"
      }
    }
  ]
}